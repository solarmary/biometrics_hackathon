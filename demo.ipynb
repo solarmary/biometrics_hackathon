{
 "cells": [
  {
   "cell_type": "code",
   "execution_count": 7,
   "id": "377606de-e2da-44fb-9ec1-ee40db51b068",
   "metadata": {},
   "outputs": [
    {
     "ename": "ModuleNotFoundError",
     "evalue": "No module named 'yolov5'",
     "output_type": "error",
     "traceback": [
      "\u001b[1;31m---------------------------------------------------------------------------\u001b[0m",
      "\u001b[1;31mModuleNotFoundError\u001b[0m                       Traceback (most recent call last)",
      "\u001b[1;32mc:\\Users\\maria\\Desktop\\hackaton_final\\hackaton\\demo.ipynb Cell 1\u001b[0m line \u001b[0;36m1\n\u001b[0;32m      <a href='vscode-notebook-cell:/c%3A/Users/maria/Desktop/hackaton_final/hackaton/demo.ipynb#W0sZmlsZQ%3D%3D?line=8'>9</a>\u001b[0m \u001b[39mimport\u001b[39;00m \u001b[39mdetector2\u001b[39;00m\n\u001b[0;32m     <a href='vscode-notebook-cell:/c%3A/Users/maria/Desktop/hackaton_final/hackaton/demo.ipynb#W0sZmlsZQ%3D%3D?line=9'>10</a>\u001b[0m \u001b[39mimport\u001b[39;00m \u001b[39mdetector3\u001b[39;00m\n\u001b[1;32m---> <a href='vscode-notebook-cell:/c%3A/Users/maria/Desktop/hackaton_final/hackaton/demo.ipynb#W0sZmlsZQ%3D%3D?line=10'>11</a>\u001b[0m \u001b[39mimport\u001b[39;00m \u001b[39mdetector4\u001b[39;00m\n\u001b[0;32m     <a href='vscode-notebook-cell:/c%3A/Users/maria/Desktop/hackaton_final/hackaton/demo.ipynb#W0sZmlsZQ%3D%3D?line=11'>12</a>\u001b[0m \u001b[39mimport\u001b[39;00m \u001b[39mdetector5\u001b[39;00m\n\u001b[0;32m     <a href='vscode-notebook-cell:/c%3A/Users/maria/Desktop/hackaton_final/hackaton/demo.ipynb#W0sZmlsZQ%3D%3D?line=12'>13</a>\u001b[0m \u001b[39mfrom\u001b[39;00m \u001b[39mdetector3\u001b[39;00m \u001b[39mimport\u001b[39;00m ImgNet\n",
      "File \u001b[1;32mc:\\Users\\maria\\Desktop\\hackaton_final\\hackaton\\detector4.py:6\u001b[0m\n\u001b[0;32m      4\u001b[0m \u001b[39mimport\u001b[39;00m \u001b[39mtorch\u001b[39;00m\n\u001b[0;32m      5\u001b[0m \u001b[39mimport\u001b[39;00m \u001b[39mpickle\u001b[39;00m\n\u001b[1;32m----> 6\u001b[0m \u001b[39mimport\u001b[39;00m \u001b[39myolov5\u001b[39;00m\u001b[39m.\u001b[39;00m\u001b[39mmodels\u001b[39;00m\n\u001b[0;32m      8\u001b[0m \u001b[39mdef\u001b[39;00m \u001b[39mload\u001b[39m(filename):\n\u001b[0;32m      9\u001b[0m     \u001b[39mwith\u001b[39;00m \u001b[39mopen\u001b[39m(filename, \u001b[39m'\u001b[39m\u001b[39mrb\u001b[39m\u001b[39m'\u001b[39m) \u001b[39mas\u001b[39;00m f:\n",
      "\u001b[1;31mModuleNotFoundError\u001b[0m: No module named 'yolov5'"
     ]
    }
   ],
   "source": [
    "import cv2\n",
    "import time\n",
    "import os\n",
    "import threading\n",
    "from threading import Thread\n",
    "from time import sleep\n",
    "import numpy as np\n",
    "import detector1\n",
    "import detector2\n",
    "import detector3\n",
    "import detector4\n",
    "import detector5\n",
    "from detector3 import ImgNet"
   ]
  },
  {
   "cell_type": "code",
   "execution_count": null,
   "metadata": {},
   "outputs": [],
   "source": [
    "# !pip install -r C:/Users/maria/Desktop/hackaton_final/hackaton/requirements.txt"
   ]
  },
  {
   "cell_type": "code",
   "execution_count": 6,
   "id": "525fc9cf-c299-4cf7-b867-b23eb63386e6",
   "metadata": {},
   "outputs": [
    {
     "ename": "ValueError",
     "evalue": "node array from the pickle has an incompatible dtype:\n- expected: {'names': ['left_child', 'right_child', 'feature', 'threshold', 'impurity', 'n_node_samples', 'weighted_n_node_samples', 'missing_go_to_left'], 'formats': ['<i8', '<i8', '<i8', '<f8', '<f8', '<i8', '<f8', 'u1'], 'offsets': [0, 8, 16, 24, 32, 40, 48, 56], 'itemsize': 64}\n- got     : [('left_child', '<i8'), ('right_child', '<i8'), ('feature', '<i8'), ('threshold', '<f8'), ('impurity', '<f8'), ('n_node_samples', '<i8'), ('weighted_n_node_samples', '<f8')]",
     "output_type": "error",
     "traceback": [
      "\u001b[1;31m---------------------------------------------------------------------------\u001b[0m",
      "\u001b[1;31mValueError\u001b[0m                                Traceback (most recent call last)",
      "\u001b[1;32mc:\\Users\\maria\\Desktop\\hackaton_final\\hackaton\\demo.ipynb Cell 3\u001b[0m line \u001b[0;36m2\n\u001b[0;32m      <a href='vscode-notebook-cell:/c%3A/Users/maria/Desktop/hackaton_final/hackaton/demo.ipynb#W1sZmlsZQ%3D%3D?line=0'>1</a>\u001b[0m d1 \u001b[39m=\u001b[39m detector1\u001b[39m.\u001b[39mPredictor() \u001b[39m# предиктор рамок вокруг лица, на чистом CV\u001b[39;00m\n\u001b[1;32m----> <a href='vscode-notebook-cell:/c%3A/Users/maria/Desktop/hackaton_final/hackaton/demo.ipynb#W1sZmlsZQ%3D%3D?line=1'>2</a>\u001b[0m d2 \u001b[39m=\u001b[39m detector2\u001b[39m.\u001b[39;49mPredictor() \u001b[39m# предиктор отслеживания изменения фона на фото и окружающе сцены, модель RandomForest\u001b[39;00m\n\u001b[0;32m      <a href='vscode-notebook-cell:/c%3A/Users/maria/Desktop/hackaton_final/hackaton/demo.ipynb#W1sZmlsZQ%3D%3D?line=2'>3</a>\u001b[0m d3 \u001b[39m=\u001b[39m detector3\u001b[39m.\u001b[39mPredictor() \u001b[39m# предиктор с механизмом внимания\u001b[39;00m\n\u001b[0;32m      <a href='vscode-notebook-cell:/c%3A/Users/maria/Desktop/hackaton_final/hackaton/demo.ipynb#W1sZmlsZQ%3D%3D?line=3'>4</a>\u001b[0m \u001b[39m# d4 = detector4.Predictor() # предиктор телефона(планшета, ноута) в кадре, на облегченной Yolo\u001b[39;00m\n",
      "File \u001b[1;32mc:\\Users\\maria\\Desktop\\hackaton_final\\hackaton\\detector2.py:35\u001b[0m, in \u001b[0;36mPredictor.__init__\u001b[1;34m(self)\u001b[0m\n\u001b[0;32m     33\u001b[0m \u001b[39mself\u001b[39m\u001b[39m.\u001b[39mnew_h \u001b[39m=\u001b[39m \u001b[39m50\u001b[39m\n\u001b[0;32m     34\u001b[0m \u001b[39mself\u001b[39m\u001b[39m.\u001b[39msize \u001b[39m=\u001b[39m \u001b[39mself\u001b[39m\u001b[39m.\u001b[39mnew_w \u001b[39m*\u001b[39m \u001b[39mself\u001b[39m\u001b[39m.\u001b[39mnew_h\n\u001b[1;32m---> 35\u001b[0m \u001b[39mself\u001b[39m\u001b[39m.\u001b[39mmodelTop \u001b[39m=\u001b[39m load(\u001b[39m\"\u001b[39;49m\u001b[39mdetector2/top.pkl\u001b[39;49m\u001b[39m\"\u001b[39;49m)\n\u001b[0;32m     36\u001b[0m \u001b[39mself\u001b[39m\u001b[39m.\u001b[39mmodelBot \u001b[39m=\u001b[39m load(\u001b[39m\"\u001b[39m\u001b[39mdetector2/bot.pkl\u001b[39m\u001b[39m\"\u001b[39m)\n\u001b[0;32m     37\u001b[0m \u001b[39mself\u001b[39m\u001b[39m.\u001b[39mmodelLeft \u001b[39m=\u001b[39m load(\u001b[39m\"\u001b[39m\u001b[39mdetector2/left.pkl\u001b[39m\u001b[39m\"\u001b[39m)\n",
      "File \u001b[1;32mc:\\Users\\maria\\Desktop\\hackaton_final\\hackaton\\detector2.py:27\u001b[0m, in \u001b[0;36mload\u001b[1;34m(filename)\u001b[0m\n\u001b[0;32m     25\u001b[0m \u001b[39mdef\u001b[39;00m \u001b[39mload\u001b[39m(filename):\n\u001b[0;32m     26\u001b[0m     \u001b[39mwith\u001b[39;00m \u001b[39mopen\u001b[39m(filename, \u001b[39m'\u001b[39m\u001b[39mrb\u001b[39m\u001b[39m'\u001b[39m) \u001b[39mas\u001b[39;00m f:\n\u001b[1;32m---> 27\u001b[0m         \u001b[39mreturn\u001b[39;00m pickle\u001b[39m.\u001b[39;49mload(f)\n",
      "File \u001b[1;32msklearn\\tree\\_tree.pyx:714\u001b[0m, in \u001b[0;36msklearn.tree._tree.Tree.__setstate__\u001b[1;34m()\u001b[0m\n",
      "File \u001b[1;32msklearn\\tree\\_tree.pyx:1418\u001b[0m, in \u001b[0;36msklearn.tree._tree._check_node_ndarray\u001b[1;34m()\u001b[0m\n",
      "\u001b[1;31mValueError\u001b[0m: node array from the pickle has an incompatible dtype:\n- expected: {'names': ['left_child', 'right_child', 'feature', 'threshold', 'impurity', 'n_node_samples', 'weighted_n_node_samples', 'missing_go_to_left'], 'formats': ['<i8', '<i8', '<i8', '<f8', '<f8', '<i8', '<f8', 'u1'], 'offsets': [0, 8, 16, 24, 32, 40, 48, 56], 'itemsize': 64}\n- got     : [('left_child', '<i8'), ('right_child', '<i8'), ('feature', '<i8'), ('threshold', '<f8'), ('impurity', '<f8'), ('n_node_samples', '<i8'), ('weighted_n_node_samples', '<f8')]"
     ]
    }
   ],
   "source": [
    "d1 = detector1.Predictor() # предиктор рамок вокруг лица, на чистом CV\n",
    "# d2 = detector2.Predictor() # предиктор отслеживания изменения фона на фото и окружающе сцены, модель RandomForest\n",
    "d3 = detector3.Predictor() # предиктор с механизмом внимания\n",
    "d4 = detector4.Predictor() # предиктор телефона(планшета, ноута) в кадре, на облегченной Yolo\n",
    "d5 = detector5.Predictor() # предиктор цветового балланса в кадре, на DecisionTree"
   ]
  },
  {
   "cell_type": "code",
   "execution_count": 3,
   "id": "7dcafbc1-2e44-4431-b5c1-9cf033c4b953",
   "metadata": {},
   "outputs": [],
   "source": [
    "# служебные функции\n",
    "def image_resize(image, width = None, height = None, inter = cv2.INTER_AREA):\n",
    "    dim = None\n",
    "    if image is None: return None\n",
    "    (h, w) = image.shape[:2]\n",
    "    if width is None and height is None:\n",
    "        return image\n",
    "    if width is None:\n",
    "        r = height / float(h)\n",
    "        dim = (int(w * r), height)\n",
    "    else:\n",
    "        r = width / float(w)\n",
    "        dim = (width, int(h * r))\n",
    "    resized = cv2.resize(image, dim, interpolation = inter)\n",
    "    return resized\n",
    "def avg(arr):\n",
    "    arr=[x for x in arr if not x is None]\n",
    "    return np.average(arr)"
   ]
  },
  {
   "cell_type": "code",
   "execution_count": 20,
   "id": "9b0ded83-c0a4-4070-acc1-be2b8947318b",
   "metadata": {},
   "outputs": [],
   "source": [
    "# главная функция. ее нужно запускать для теста. Аргумент путь до односекундного видео. \n",
    "# Возвращает вероятность атаки предъявлением (0 - точно нет атаки, 1 - атака точно есть) и время обработки видео\n",
    "def main(one_sec_video):\n",
    "    cap = cv2.VideoCapture(one_sec_video)\n",
    "    rez=np.array([None,None,None,None,None,None,])\n",
    "    threads=[]\n",
    "    images=[]\n",
    "    images_=[]\n",
    "    cnt=0\n",
    "    while True:\n",
    "        ret, img_ = cap.read()\n",
    "        cnt+=1\n",
    "        if cnt % 8!=0: continue\n",
    "        img=image_resize(img_,width=450)\n",
    "        if not ret or len(images)>=3: break\n",
    "        images.append(img)\n",
    "        images_.append(img_)\n",
    "    start=time.time() \n",
    "    threads.append(Thread(target=d1.predict, args=(images, rez, 1,))) #  можно закомментирвать две строки, чтобы отключить предиктор\n",
    "    threads[-1].start()  \n",
    "    threads.append(Thread(target=d2.predict, args=(images, rez, 2,)))  #  можно закомментирвать две строки, чтобы отключить предиктор\n",
    "    threads[-1].start() \n",
    "    threads.append(Thread(target=d3.predict, args=(images_, rez, 3,)))  #  можно закомментирвать две строки, чтобы отключить предиктор\n",
    "    threads[-1].start() \n",
    "    threads.append(Thread(target=d4.predict, args=(images_, rez, 4,)))  #  можно закомментирвать две строки, чтобы отключить предиктор\n",
    "    threads[-1].start() \n",
    "    threads.append(Thread(target=d5.predict, args=(images_, rez, 5,)))  #  можно закомментирвать две строки, чтобы отключить предиктор\n",
    "    threads[-1].start() \n",
    "    for i in range(100):\n",
    "       cnt=0 \n",
    "       for t in threads:\n",
    "           cnt+= 1 if not t is None and t.is_alive() else 0\n",
    "       if cnt==0: break    \n",
    "       sleep(0.01)\n",
    "    rez_= avg(rez)\n",
    "    stop=time.time() \n",
    "    print(f\"Probability attack: {rez_}   Time predict: {stop-start}s\")\n",
    "    return rez_,stop-start"
   ]
  },
  {
   "cell_type": "markdown",
   "id": "338b6117-021a-4363-baf5-ba11a218f375",
   "metadata": {},
   "source": [
    "# Далее тестирование на золотом стандарте"
   ]
  },
  {
   "cell_type": "code",
   "execution_count": 21,
   "id": "6a10ad94-f9e8-426e-aa79-423ee0e6f8fc",
   "metadata": {},
   "outputs": [
    {
     "name": "stdout",
     "output_type": "stream",
     "text": [
      "Probability attack: 0.7969543099403381   Time predict: 0.3078446388244629s\n",
      "Probability attack: 0.3341052969296773   Time predict: 0.9312222003936768s\n",
      "Probability attack: 0.9313953757286072   Time predict: 0.787980318069458s\n",
      "Probability attack: 0.8626976569493612   Time predict: 0.9897019863128662s\n",
      "Probability attack: 0.5992941975593566   Time predict: 0.833214282989502s\n",
      "Probability attack: 0.5130835612614949   Time predict: 0.9253144264221191s\n",
      "Probability attack: 0.2533447156349818   Time predict: 0.8562972545623779s\n",
      "Warning: face not found !   Use center image, as face.\n",
      "Warning: face not found !   Use center image, as face.\n",
      "Warning: face not found !   Use center image, as face.\n",
      "Warning: face not found !   Use center image, as face.\n",
      "Warning: face not found !   Use center image, as face.\n",
      "Warning: face not found !   Use center image, as face.\n",
      "Probability attack: 0.6864746252695719   Time predict: 1.0887954235076904s\n",
      "Probability attack: 0.896593976020813   Time predict: 0.6206109523773193s\n",
      "Probability attack: 0.058798531691233315   Time predict: 0.8298413753509521s\n",
      "Probability attack: 0.36573126713434856   Time predict: 0.8393843173980713s\n",
      "Probability attack: 0.854941725730896   Time predict: 0.9256396293640137s\n",
      "Probability attack: 0.7959987322489421   Time predict: 0.92240309715271s\n",
      "Probability attack: 0.8451563000679017   Time predict: 0.8933253288269043s\n",
      "Probability attack: 0.5905274470647176   Time predict: 0.8945901393890381s\n",
      "Warning: face not found !   Use center image, as face.\n",
      "Warning: face not found !   Use center image, as face.\n",
      "Warning: face not found !   Use center image, as face.\n",
      "Warning: face not found !   Use center image, as face.\n",
      "Warning: face not found !   Use center image, as face.\n",
      "Warning: face not found !   Use center image, as face.\n",
      "Probability attack: 0.24750085671742755   Time predict: 1.183948040008545s\n",
      "Probability attack: 0.5773014426231384   Time predict: 0.8435263633728027s\n",
      "Probability attack: 0.5403874516487122   Time predict: 0.8489818572998047s\n",
      "Probability attack: 0.714034140110016   Time predict: 0.9808120727539062s\n",
      "Probability attack: 0.5171878099441528   Time predict: 0.9245336055755615s\n",
      "Warning: face not found !   Use center image, as face.\n",
      "Warning: face not found !   Use center image, as face.\n",
      "Warning: face not found !   Use center image, as face.\n",
      "Warning: face not found !   Use center image, as face.\n",
      "Probability attack: 0.5550074776013691   Time predict: 1.0066804885864258s\n",
      "Probability attack: 0.5974404335021972   Time predict: 0.8077590465545654s\n",
      "Probability attack: 0.19790256023406982   Time predict: 0.8049767017364502s\n",
      "Probability attack: 0.9241063952445984   Time predict: 0.839646577835083s\n",
      "Probability attack: 0.864139986038208   Time predict: 0.8751108646392822s\n",
      "Probability attack: 0.3905091047286987   Time predict: 0.8986952304840088s\n",
      "Probability attack: 0.7709286014238994   Time predict: 0.8115489482879639s\n",
      "Probability attack: 0.9262466589609781   Time predict: 0.8123230934143066s\n",
      "Probability attack: 0.2931426723798116   Time predict: 0.8010153770446777s\n",
      "Probability attack: 0.5218779802322387   Time predict: 0.9717931747436523s\n",
      "Probability attack: 0.7351890747745832   Time predict: 0.9998123645782471s\n",
      "Probability attack: 0.3695134560267131   Time predict: 0.8804430961608887s\n",
      "Probability attack: 0.49159380594889324   Time predict: 0.8440995216369629s\n",
      "Probability attack: 0.6479262669881185   Time predict: 0.8730874061584473s\n",
      "Probability attack: 0.7995254953702291   Time predict: 0.9352381229400635s\n",
      "Probability attack: 0.6393304884433746   Time predict: 0.9277946949005127s\n",
      "Probability attack: 0.651950991153717   Time predict: 0.9271183013916016s\n",
      "Probability attack: 0.7998695492744445   Time predict: 0.8217158317565918s\n",
      "Probability attack: 0.7317146142323812   Time predict: 0.92783522605896s\n",
      "Probability attack: 0.8535572648048401   Time predict: 0.919011116027832s\n",
      "Probability attack: 0.59699151913325   Time predict: 0.8339486122131348s\n",
      "Probability attack: 0.7949892520904541   Time predict: 1.163095235824585s\n"
     ]
    },
    {
     "name": "stderr",
     "output_type": "stream",
     "text": [
      "Exception in thread Thread-1069 (predict):\n",
      "Traceback (most recent call last):\n",
      "  File \"/usr/lib64/python3.10/threading.py\", line 1016, in _bootstrap_inner\n",
      "    self.run()\n",
      "  File \"/usr/lib64/python3.10/threading.py\", line 953, in run\n",
      "    self._target(*self._args, **self._kwargs)\n",
      "  File \"/home/test/hackaton/detector2.py\", line 78, in predict\n",
      "    arr_rez[idx]=  answersSum/count    \n",
      "ZeroDivisionError: float division by zero\n"
     ]
    },
    {
     "name": "stdout",
     "output_type": "stream",
     "text": [
      "Warning: face not found !   Use center image, as face.\n",
      "Warning: face not found !   Use center image, as face.\n",
      "Warning: face not found !   Use center image, as face.\n",
      "Warning: face not found !   Use center image, as face.\n",
      "Warning: face not found !   Use center image, as face.\n",
      "Warning: face not found !   Use center image, as face.\n",
      "Probability attack: 0.26105796794096625   Time predict: 0.4887082576751709s\n",
      "Probability attack: 0.5315995931625366   Time predict: 0.9776890277862549s\n",
      "Probability attack: 0.7281978368759155   Time predict: 0.8476011753082275s\n",
      "Probability attack: 0.7248417854309082   Time predict: 0.8320250511169434s\n",
      "Probability attack: 0.6661468664805094   Time predict: 0.8621344566345215s\n",
      "Probability attack: 0.7978778719902039   Time predict: 0.598642110824585s\n",
      "Probability attack: 0.3946702480316162   Time predict: 0.8322477340698242s\n",
      "Probability attack: 0.4495607654253642   Time predict: 0.9533698558807373s\n",
      "Probability attack: 0.5959360321362813   Time predict: 0.8908495903015137s\n",
      "Probability attack: 0.3977714935938518   Time predict: 0.7730984687805176s\n",
      "Probability attack: 0.7098598480224609   Time predict: 0.7878401279449463s\n",
      "Probability attack: 0.5637403567632039   Time predict: 0.7776002883911133s\n",
      "Probability attack: 0.6430402636528015   Time predict: 0.8771622180938721s\n",
      "Probability attack: 0.3934920986493428   Time predict: 0.8527467250823975s\n",
      "Warning: face not found !   Use center image, as face.\n",
      "Warning: face not found !   Use center image, as face.\n",
      "Warning: face not found !   Use center image, as face.\n",
      "Warning: face not found !   Use center image, as face.\n",
      "Warning: face not found !   Use center image, as face.\n",
      "Warning: face not found !   Use center image, as face.\n",
      "Probability attack: 0.5381722807884216   Time predict: 1.0706815719604492s\n",
      "Probability attack: 0.7861114899317424   Time predict: 0.9086132049560547s\n",
      "Warning: face not found !   Use center image, as face.\n",
      "Warning: face not found !   Use center image, as face.\n",
      "Warning: face not found !   Use center image, as face.\n",
      "Warning: face not found !   Use center image, as face.\n",
      "Warning: face not found !   Use center image, as face.\n",
      "Warning: face not found !   Use center image, as face.\n",
      "Probability attack: 0.7564778566360474   Time predict: 0.8084897994995117s\n",
      "Probability attack: 0.5682068149248759   Time predict: 0.8917832374572754s\n",
      "Probability attack: 0.11833507617314656   Time predict: 0.8128905296325684s\n",
      "Probability attack: 0.1916182279586792   Time predict: 0.9122788906097412s\n",
      "Probability attack: 0.23568960428237914   Time predict: 0.8834176063537598s\n",
      "Probability attack: 0.5998066147168477   Time predict: 0.8296229839324951s\n",
      "Probability attack: 0.10826996763547261   Time predict: 0.6892874240875244s\n",
      "Probability attack: 0.23282374143600465   Time predict: 0.9516637325286865s\n",
      "Probability attack: 0.46702854235966995   Time predict: 0.8939590454101562s\n",
      "Probability attack: 0.015216385324796041   Time predict: 0.9103446006774902s\n",
      "Probability attack: 0.1947890043258667   Time predict: 0.8623418807983398s\n",
      "Probability attack: 0.22731460283199945   Time predict: 0.8524866104125977s\n",
      "Probability attack: 0.26738884250322975   Time predict: 0.8827390670776367s\n",
      "Probability attack: 0.2507919838031133   Time predict: 0.894188404083252s\n",
      "Probability attack: 0.21427867859601973   Time predict: 0.8976001739501953s\n",
      "Probability attack: 0.13558507760365804   Time predict: 0.9477777481079102s\n",
      "Probability attack: 0.5338796973228455   Time predict: 0.8565073013305664s\n",
      "Probability attack: 0.3327079614003499   Time predict: 0.9324779510498047s\n",
      "Probability attack: 0.10828252732753754   Time predict: 0.866952657699585s\n",
      "Probability attack: 0.34831414222717283   Time predict: 0.527493953704834s\n",
      "Probability attack: 0.30965249141057327   Time predict: 0.802377462387085s\n",
      "Probability attack: 0.3568329453468323   Time predict: 0.9069607257843018s\n",
      "Probability attack: 0.289142245054245   Time predict: 0.9512522220611572s\n",
      "Probability attack: 0.18611332178115844   Time predict: 0.8151876926422119s\n",
      "Probability attack: 0.2455325345198313   Time predict: 0.887537956237793s\n",
      "Probability attack: 0.3303904891014099   Time predict: 0.9274599552154541s\n",
      "Probability attack: 0.26078294118245443   Time predict: 0.8506495952606201s\n",
      "Probability attack: 0.32570751508076984   Time predict: 0.9185082912445068s\n",
      "Warning: face too  small!       Use center image, as face.\n",
      "Warning: face too  small!       Use center image, as face.\n",
      "Warning: face too  small!       Use center image, as face.\n",
      "Warning: face too  small!       Use center image, as face.\n",
      "Probability attack: 0.34844828446706133   Time predict: 0.8326115608215332s\n",
      "Warning: face not found !   Use center image, as face.\n",
      "Warning: face not found !   Use center image, as face.\n",
      "Probability attack: 0.197237761815389   Time predict: 0.8010623455047607s\n",
      "Probability attack: 0.18706995646158853   Time predict: 0.8329696655273438s\n",
      "Probability attack: 0.3658039689064026   Time predict: 0.8543570041656494s\n",
      "Probability attack: 0.19623308181762694   Time predict: 0.49582505226135254s\n",
      "Warning: face not found !   Use center image, as face.\n",
      "Warning: face not found !   Use center image, as face.\n",
      "Warning: face not found !   Use center image, as face.\n",
      "Warning: face not found !   Use center image, as face.\n",
      "Probability attack: 0.26688753068447113   Time predict: 1.1758267879486084s\n"
     ]
    }
   ],
   "source": [
    "attack_files = [f for f in os.listdir(\"video4test/attack/\") if os.path.getsize(os.path.join(\"video4test/attack/\", f)) > 0 and not f.startswith('.')]\n",
    "noattack_files = [f for f in os.listdir(\"video4test/noattack/\") if os.path.getsize(os.path.join(\"video4test/noattack/\", f)) > 0 and not f.startswith('.')]\n",
    "target=np.array([])\n",
    "predict=np.array([])\n",
    "filenames=np.array([])\n",
    "for f in attack_files: \n",
    "    # print(\"video4test/attack/\"+f)\n",
    "    p,_=main(\"video4test/attack/\"+f)\n",
    "    predict=np.append(predict,p)\n",
    "    target=np.append(target,1)\n",
    "    filenames = np.append(filenames,\"video4test/attack/\"+f)\n",
    "for f in noattack_files: \n",
    "    # print(\"video4test/noattack/\"+f)\n",
    "    p,_=main(\"video4test/noattack/\"+f)    \n",
    "    predict=np.append(predict,p)\n",
    "    target=np.append(target,0)\n",
    "    filenames = np.append(filenames,\"video4test/noattack/\"+f)"
   ]
  },
  {
   "cell_type": "code",
   "execution_count": 25,
   "id": "80b175bd-eb42-482b-8710-02d4cb7c6c83",
   "metadata": {},
   "outputs": [
    {
     "name": "stdout",
     "output_type": "stream",
     "text": [
      "Правильно предсказано: 75 из 92\n",
      "Ошибка в обнаружении в видео: ['video4test/attack/IMG_0412.MOV' 'video4test/attack/20231120_091505.mp4' 'video4test/attack/20231120_091444.mp4' 'video4test/attack/20231120_091932.mp4' 'video4test/attack/20231120_092154.mp4' 'video4test/attack/pr8.mp4' 'video4test/attack/r5.mp4' 'video4test/attack/pr4.mp4' 'video4test/attack/pr5.mp4'\n",
      " 'video4test/attack/20231114_161627_05.mp4' 'video4test/attack/20231120_091426.mp4' 'video4test/attack/20231120_091834.mp4' 'video4test/attack/20231120_091815.mp4' 'video4test/noattack/noR5.mp4' 'video4test/noattack/3331_.mp4' 'video4test/noattack/noR7.mp4' 'video4test/noattack/video_4_1.mp4']\n"
     ]
    }
   ],
   "source": [
    "THRESHOLD=0.4\n",
    "correct_predicts=sum((predict > THRESHOLD).astype(int) == target)\n",
    "print(f\"Правильно предсказано: {correct_predicts} из {len(target)}\")\n",
    "true_predict=(predict > THRESHOLD).astype(int) == target\n",
    "print(f\"Ошибка в обнаружении в видео: {filenames[np.logical_not(true_predict)]}\")"
   ]
  },
  {
   "cell_type": "code",
   "execution_count": 26,
   "id": "30311ccd-cf12-4bf1-af7a-f991b2c191ae",
   "metadata": {},
   "outputs": [
    {
     "name": "stdout",
     "output_type": "stream",
     "text": [
      "Acc: 0.8152173913043478\n"
     ]
    }
   ],
   "source": [
    "print(f\"Acc: {correct_predicts/len(target)}\")"
   ]
  },
  {
   "cell_type": "markdown",
   "id": "19f9d794-82a1-4a06-9caf-5c05e76ea352",
   "metadata": {},
   "source": [
    "КОНЕЦ"
   ]
  },
  {
   "cell_type": "code",
   "execution_count": 24,
   "id": "ca29cca0-ceb5-4aef-acef-fbc978a673e3",
   "metadata": {},
   "outputs": [
    {
     "name": "stdout",
     "output_type": "stream",
     "text": [
      "Warning: face not found !   Use center image, as face.\n",
      "Warning: face not found !   Use center image, as face.\n",
      "Warning: face not found !   Use center image, as face.\n",
      "Warning: face not found !   Use center image, as face.\n",
      "Warning: face not found !   Use center image, as face.\n",
      "Warning: face not found !   Use center image, as face.\n",
      "Probability attack: 0.7564778566360474   Time predict: 0.9863269329071045s\n"
     ]
    },
    {
     "data": {
      "text/plain": [
       "(0.7564778566360474, 0.9863269329071045)"
      ]
     },
     "execution_count": 24,
     "metadata": {},
     "output_type": "execute_result"
    }
   ],
   "source": [
    "main(\"video4test/attack/20231114_161627_04.mp4\")"
   ]
  },
  {
   "cell_type": "code",
   "execution_count": null,
   "id": "854fd5d8-c77d-44b3-a4c5-198a144f9fcb",
   "metadata": {},
   "outputs": [],
   "source": [
    "# p=detector5.Predictor()\n",
    "# img=cv2.imread(\"1.jpg\")\n",
    "# rez=p.predict([img],np.zeros(6),1)"
   ]
  }
 ],
 "metadata": {
  "kernelspec": {
   "display_name": "Python 3",
   "language": "python",
   "name": "python3"
  },
  "language_info": {
   "codemirror_mode": {
    "name": "ipython",
    "version": 3
   },
   "file_extension": ".py",
   "mimetype": "text/x-python",
   "name": "python",
   "nbconvert_exporter": "python",
   "pygments_lexer": "ipython3",
   "version": "3.11.1"
  }
 },
 "nbformat": 4,
 "nbformat_minor": 5
}
